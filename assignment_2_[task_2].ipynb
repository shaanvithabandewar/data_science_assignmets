{
  "nbformat": 4,
  "nbformat_minor": 0,
  "metadata": {
    "colab": {
      "provenance": [],
      "authorship_tag": "ABX9TyPMbb+KmLTqFzL5hHY0eMnA",
      "include_colab_link": true
    },
    "kernelspec": {
      "name": "python3",
      "display_name": "Python 3"
    },
    "language_info": {
      "name": "python"
    }
  },
  "cells": [
    {
      "cell_type": "markdown",
      "metadata": {
        "id": "view-in-github",
        "colab_type": "text"
      },
      "source": [
        "<a href=\"https://colab.research.google.com/github/shaanvithabandewar/data_science_assignmets/blob/main/assignment_2_%5Btask_2%5D.ipynb\" target=\"_parent\"><img src=\"https://colab.research.google.com/assets/colab-badge.svg\" alt=\"Open In Colab\"/></a>"
      ]
    },
    {
      "cell_type": "code",
      "execution_count": null,
      "metadata": {
        "id": "tCG5mkhcNQP1"
      },
      "outputs": [],
      "source": [
        "import pandas as pd\n",
        "from scipy import stats\n",
        "import numpy as np"
      ]
    },
    {
      "cell_type": "code",
      "source": [
        "#data provided\n",
        "data = np.array([1.13, 1.55, 1.43, 0.92, 1.25, 1.36, 1.32, 0.85, 1.07, 1.48, 1.20, 1.33, 1.18, 1.22, 1.29])\n",
        "\n",
        "#Task-2 Bulid 99% confidence interval using known population standard deviation\n",
        "sample_mean = np.mean(data)\n",
        "sample_std = np.std(data)\n",
        "n = len(data)\n",
        "\n",
        "#z-distribution critical values for 99% confidence interval\n",
        "population_std_dev = 0.2\n",
        "\n",
        "#z-distribution critical value 99% confidence interval\n",
        "z_critical = stats.norm.ppf(0.995)\n",
        "\n",
        "#margin of error\n",
        "margin_of_error_population = z_critical * (population_std_dev / np.sqrt(n))\n",
        "\n",
        "#confidence interval\n",
        "confidence_interval_population = (sample_mean - margin_of_error_population, sample_mean + margin_of_error_population)\n",
        "\n",
        "print(confidence_interval_population)\n"
      ],
      "metadata": {
        "colab": {
          "base_uri": "https://localhost:8080/"
        },
        "id": "P8LkALoqNwyz",
        "outputId": "c0fe1661-3883-45f8-b314-a6b4382a3743"
      },
      "execution_count": null,
      "outputs": [
        {
          "output_type": "stream",
          "name": "stdout",
          "text": [
            "(1.1056514133957607, 1.3716819199375725)\n"
          ]
        }
      ]
    }
  ]
}