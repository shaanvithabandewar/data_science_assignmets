{
  "nbformat": 4,
  "nbformat_minor": 0,
  "metadata": {
    "colab": {
      "provenance": [],
      "authorship_tag": "ABX9TyOmER0HgIr+VuJMOrEZxlZM",
      "include_colab_link": true
    },
    "kernelspec": {
      "name": "python3",
      "display_name": "Python 3"
    },
    "language_info": {
      "name": "python"
    }
  },
  "cells": [
    {
      "cell_type": "markdown",
      "metadata": {
        "id": "view-in-github",
        "colab_type": "text"
      },
      "source": [
        "<a href=\"https://colab.research.google.com/github/shaanvithabandewar/data_science_assignmets/blob/main/hypothesis_testing.ipynb\" target=\"_parent\"><img src=\"https://colab.research.google.com/assets/colab-badge.svg\" alt=\"Open In Colab\"/></a>"
      ]
    },
    {
      "cell_type": "code",
      "execution_count": null,
      "metadata": {
        "colab": {
          "base_uri": "https://localhost:8080/"
        },
        "id": "4IqKj26oPGKV",
        "outputId": "453e4063-5b89-4b06-9e9a-33b2a1727a9d"
      },
      "outputs": [
        {
          "output_type": "execute_result",
          "data": {
            "text/plain": [
              "(-38.0, 1.6448536269514722)"
            ]
          },
          "metadata": {},
          "execution_count": 2
        }
      ],
      "source": [
        "# Let's begin by calculating the required values as per the steps outlined .\n",
        "\n",
        "import math\n",
        "import scipy.stats as stats\n",
        "\n",
        "# Given data\n",
        "sample_mean = 3050\n",
        "n = 25\n",
        "mu_x = 600\n",
        "sigma_x = 25\n",
        "alpha = 0.05\n",
        "\n",
        "# Step 1: Hypotheses\n",
        "# H0: The mean weekly operating cost according to the model is equal to the observed mean (μ = $1,000 + $5X).\n",
        "# H1: The mean weekly operating cost according to the model is less than the observed mean (μ < $1,000 + $5X).\n",
        "\n",
        "# Step 2: Calculate the Test Statistic\n",
        "# The theoretical weekly operating cost according to the model for X = 600 units is:\n",
        "theoretical_cost = 1000 + 5 * mu_x\n",
        "\n",
        "# The standard deviation for the sample mean is:\n",
        "sigma = 5 * sigma_x\n",
        "\n",
        "# Calculate the test statistic (t):\n",
        "t = (sample_mean - theoretical_cost) / (sigma / math.sqrt(n))\n",
        "\n",
        "# Step 3: Determine the Critical Value\n",
        "critical_value = stats.norm.ppf(1 - alpha)\n",
        "\n",
        "# Output the results\n",
        "t, critical_value\n"
      ]
    }
  ]
}