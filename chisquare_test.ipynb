{
  "nbformat": 4,
  "nbformat_minor": 0,
  "metadata": {
    "colab": {
      "provenance": [],
      "authorship_tag": "ABX9TyPtWT6Jmhptyq5EQIFBoo2b",
      "include_colab_link": true
    },
    "kernelspec": {
      "name": "python3",
      "display_name": "Python 3"
    },
    "language_info": {
      "name": "python"
    }
  },
  "cells": [
    {
      "cell_type": "markdown",
      "metadata": {
        "id": "view-in-github",
        "colab_type": "text"
      },
      "source": [
        "<a href=\"https://colab.research.google.com/github/shaanvithabandewar/data_science_assignmets/blob/main/chisquare_test.ipynb\" target=\"_parent\"><img src=\"https://colab.research.google.com/assets/colab-badge.svg\" alt=\"Open In Colab\"/></a>"
      ]
    },
    {
      "cell_type": "markdown",
      "source": [
        "## 1. Stating the Hypotheses:\n",
        "\n",
        "- **Null Hypothesis (H₀):** There is no association between the type of smart home device purchased and customer satisfaction levels. The distribution of customer satisfaction is independent of the device type.\n",
        "- **Alternative Hypothesis (H₁):** There is an association between the type of smart home device purchased and customer satisfaction levels. The distribution of customer satisfaction is dependent on the device type."
      ],
      "metadata": {
        "id": "gw91rZzKNxUB"
      }
    },
    {
      "cell_type": "code",
      "execution_count": null,
      "metadata": {
        "colab": {
          "base_uri": "https://localhost:8080/"
        },
        "id": "c3AQlm-xnKFJ",
        "outputId": "7b1905f0-db48-4625-b63e-9b8ac5add58b"
      },
      "outputs": [
        {
          "output_type": "execute_result",
          "data": {
            "text/plain": [
              "(5.638227513227513,\n",
              " 9.487729036781154,\n",
              " 0.22784371130697179,\n",
              " 4,\n",
              " array([[ 48.,  72.],\n",
              "        [ 72., 108.],\n",
              "        [ 60.,  90.],\n",
              "        [ 32.,  48.],\n",
              "        [ 28.,  42.]]))"
            ]
          },
          "metadata": {},
          "execution_count": 7
        }
      ],
      "source": [
        "import numpy as np\n",
        "import scipy.stats as stats\n",
        "\n",
        "# Data from the contingency table\n",
        "observed = np.array([[50, 70],\n",
        "                     [80, 100],\n",
        "                     [60, 90],\n",
        "                     [30, 50],\n",
        "                     [20, 50]])\n",
        "\n",
        "# Perform the Chi-Square test\n",
        "chi2_stat, p_val, dof, expected = stats.chi2_contingency(observed)\n",
        "\n",
        "# Determine the critical value at alpha = 0.05\n",
        "alpha = 0.05\n",
        "critical_value = stats.chi2.ppf(1 - alpha, dof)\n",
        "\n",
        "chi2_stat, critical_value, p_val, dof, expected\n"
      ]
    },
    {
      "cell_type": "markdown",
      "source": [
        "Conclusion:\n",
        "There is no significant association between the type of smart home device purchased (Smart Thermostats vs. Smart Lights) and customer satisfaction levels at the 0.05 significance level. The observed variations in satisfaction levels between the two device types could be due to random chance\n"
      ],
      "metadata": {
        "id": "LYk8E_DwObPX"
      }
    }
  ]
}